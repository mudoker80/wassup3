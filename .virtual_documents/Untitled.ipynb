print ('hello world')


print ("Mary'cometics")


print ('신씨가 소리질렀다. "도둑이야".')


print ('c:\windows')


print("안녕하세요.\n만나서\t\t반갑습니다.")
#\n 은 줄바꿈
#\t 는 탭 한번만큼 띄우기


print("오늘은", "일요일")


print("naver;kakao;samsung")


print('naver, kakao,sk,samsung', sep="/")



print('naver/kakao/sk/samsung')


print("naver", "kakao", "samsung", sep="/")



print("first", end=""); print("second")



print("first");print("second")



print(5/3)


삼성전자 = 50000
b = 삼성전자 * 10
print('총 평가금액',b)


시가총액 = "298 조"
현재가 = "50,000원"
PER = 15.79


s = "hello"
t = "python"
print (s +'!'+' '+t)


a = "132"
print (type(a))



num_str = "720"
num = 720
num, num_str


num_str = "720"  #형변환
num_int = int(num_str)
print(num_int+1, type(num_int))


num = 100
num_str = str(num)
print (num_str, type(num_str))


num_str = "15.79"  
num_float = float(num_str)
print(num_float, type(num_float))


year = "2020"
year_int = int(year)
print(year_int+1, year_int+2, year_int+3)


year = "2020"
print(int(year)-3)  # 2017
print(int(year)-2)  # 2018
print(int(year)-1)  # 2019


print(48584*36)


letters = 'python'
print(letters[0],letters[2])




license_plate = "24가 2210"
print(license_plate[4:]) 



string = "홀짝홀짝홀짝"























































































































a += 3
a


t1 = ()
t2 = (1, )
t3 = (1, 2, 3)
t4 = 1, 2, 3
t5 = ('a','b','(ab','cd'))


a = t3 + t4


len(t1)


a = "Python is the best choice"
a.find('e')


a.find([12[, end]])









